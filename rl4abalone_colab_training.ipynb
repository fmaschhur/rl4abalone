{
  "nbformat": 4,
  "nbformat_minor": 0,
  "metadata": {
    "colab": {
      "name": "rl4abalone_colab-training.ipynb",
      "provenance": [],
      "collapsed_sections": [],
      "authorship_tag": "ABX9TyPvDOQ8xvx3Mkr5y2kZHtMB",
      "include_colab_link": true
    },
    "kernelspec": {
      "name": "python3",
      "display_name": "Python 3"
    },
    "language_info": {
      "name": "python"
    },
    "accelerator": "GPU"
  },
  "cells": [
    {
      "cell_type": "markdown",
      "metadata": {
        "id": "view-in-github",
        "colab_type": "text"
      },
      "source": [
        "<a href=\"https://colab.research.google.com/github/wuxmax/rl4abalone/blob/master/rl4abalone_colab_training.ipynb\" target=\"_parent\"><img src=\"https://colab.research.google.com/assets/colab-badge.svg\" alt=\"Open In Colab\"/></a>"
      ]
    },
    {
      "cell_type": "code",
      "metadata": {
        "colab": {
          "base_uri": "https://localhost:8080/"
        },
        "id": "_bHN124nyYEv",
        "outputId": "b76f19cf-65e0-4b29-c9c9-db1004633074"
      },
      "source": [
        "!pip install pyvirtualdisplay\n",
        "!apt install xvfb\n",
        "!pip install gym"
      ],
      "execution_count": 11,
      "outputs": [
        {
          "output_type": "stream",
          "text": [
            "Requirement already satisfied: pyvirtualdisplay in /usr/local/lib/python3.7/dist-packages (2.1)\n",
            "Requirement already satisfied: EasyProcess in /usr/local/lib/python3.7/dist-packages (from pyvirtualdisplay) (0.3)\n",
            "Reading package lists... Done\n",
            "Building dependency tree       \n",
            "Reading state information... Done\n",
            "xvfb is already the newest version (2:1.19.6-1ubuntu4.9).\n",
            "The following package was automatically installed and is no longer required:\n",
            "  libnvidia-common-460\n",
            "Use 'apt autoremove' to remove it.\n",
            "0 upgraded, 0 newly installed, 0 to remove and 34 not upgraded.\n",
            "Requirement already satisfied: gym in /usr/local/lib/python3.7/dist-packages (0.17.3)\n",
            "Requirement already satisfied: numpy>=1.10.4 in /usr/local/lib/python3.7/dist-packages (from gym) (1.19.5)\n",
            "Requirement already satisfied: scipy in /usr/local/lib/python3.7/dist-packages (from gym) (1.4.1)\n",
            "Requirement already satisfied: pyglet<=1.5.0,>=1.4.0 in /usr/local/lib/python3.7/dist-packages (from gym) (1.5.0)\n",
            "Requirement already satisfied: cloudpickle<1.7.0,>=1.2.0 in /usr/local/lib/python3.7/dist-packages (from gym) (1.3.0)\n",
            "Requirement already satisfied: future in /usr/local/lib/python3.7/dist-packages (from pyglet<=1.5.0,>=1.4.0->gym) (0.16.0)\n"
          ],
          "name": "stdout"
        }
      ]
    },
    {
      "cell_type": "code",
      "metadata": {
        "id": "8Nejme-Mz7G4"
      },
      "source": [
        "import os\n",
        "\n",
        "# download segment_tree module\n",
        "if not os.path.isfile('/content/segment_tree.py'):\n",
        "  !wget https://raw.githubusercontent.com/curt-park/rainbow-is-all-you-need/master/segment_tree.py\n",
        "\n",
        "# downlaod rainbow module\n",
        "if not os.path.isfile('/content/rainbow.py'):\n",
        "  !wget https://raw.githubusercontent.com/wuxmax/rl4abalone/master/rainbow.py"
      ],
      "execution_count": 12,
      "outputs": []
    },
    {
      "cell_type": "code",
      "metadata": {
        "id": "sIMUEfO3yN5P"
      },
      "source": [
        "from pyvirtualdisplay import Display"
      ],
      "execution_count": 13,
      "outputs": []
    },
    {
      "cell_type": "code",
      "metadata": {
        "colab": {
          "base_uri": "https://localhost:8080/"
        },
        "id": "3z1xUmbRyEzL",
        "outputId": "d7d29e8c-d82e-4250-bf25-7a60ec6b40ab"
      },
      "source": [
        "# Start virtual display\n",
        "dis = Display(visible=0, size=(400, 400))\n",
        "dis.start()"
      ],
      "execution_count": 14,
      "outputs": [
        {
          "output_type": "execute_result",
          "data": {
            "text/plain": [
              "<pyvirtualdisplay.display.Display at 0x7f14942d37d0>"
            ]
          },
          "metadata": {
            "tags": []
          },
          "execution_count": 14
        }
      ]
    },
    {
      "cell_type": "code",
      "metadata": {
        "colab": {
          "base_uri": "https://localhost:8080/"
        },
        "id": "yhKUSv2jumxL",
        "outputId": "c5fba14d-9793-4ad5-a51d-5e1e00a42d67"
      },
      "source": [
        "!git clone https://github.com/towzeur/gym-abalone.git\n",
        "%cd gym-abalone\n",
        "!pip install -e .\n",
        "\n",
        "import gym\n",
        "from gym_abalone.envs import abalone_env\n",
        "\n",
        "%cd .."
      ],
      "execution_count": 15,
      "outputs": [
        {
          "output_type": "stream",
          "text": [
            "fatal: destination path 'gym-abalone' already exists and is not an empty directory.\n",
            "/content/gym-abalone\n",
            "Obtaining file:///content/gym-abalone\n",
            "Requirement already satisfied: gym in /usr/local/lib/python3.7/dist-packages (from gym-abalone==0.0.1) (0.17.3)\n",
            "Requirement already satisfied: numpy>=1.10.4 in /usr/local/lib/python3.7/dist-packages (from gym->gym-abalone==0.0.1) (1.19.5)\n",
            "Requirement already satisfied: cloudpickle<1.7.0,>=1.2.0 in /usr/local/lib/python3.7/dist-packages (from gym->gym-abalone==0.0.1) (1.3.0)\n",
            "Requirement already satisfied: pyglet<=1.5.0,>=1.4.0 in /usr/local/lib/python3.7/dist-packages (from gym->gym-abalone==0.0.1) (1.5.0)\n",
            "Requirement already satisfied: scipy in /usr/local/lib/python3.7/dist-packages (from gym->gym-abalone==0.0.1) (1.4.1)\n",
            "Requirement already satisfied: future in /usr/local/lib/python3.7/dist-packages (from pyglet<=1.5.0,>=1.4.0->gym->gym-abalone==0.0.1) (0.16.0)\n",
            "Installing collected packages: gym-abalone\n",
            "  Found existing installation: gym-abalone 0.0.1\n",
            "    Can't uninstall 'gym-abalone'. No files were found to uninstall.\n",
            "  Running setup.py develop for gym-abalone\n",
            "Successfully installed gym-abalone\n",
            "/content\n"
          ],
          "name": "stdout"
        }
      ]
    },
    {
      "cell_type": "code",
      "metadata": {
        "id": "bwj6SXp7vcGQ"
      },
      "source": [
        "import random\n",
        "import pickle\n",
        "\n",
        "import gym\n",
        "import torch\n",
        "import numpy as np\n",
        "\n",
        "from rainbow import DQNAgent"
      ],
      "execution_count": 16,
      "outputs": []
    },
    {
      "cell_type": "code",
      "metadata": {
        "id": "vwl0SBDwvkbP"
      },
      "source": [
        "def seed_torch(seed):\n",
        "    torch.manual_seed(seed)\n",
        "    if torch.backends.cudnn.enabled:\n",
        "        torch.backends.cudnn.benchmark = False\n",
        "        torch.backends.cudnn.deterministic = True"
      ],
      "execution_count": 17,
      "outputs": []
    },
    {
      "cell_type": "code",
      "metadata": {
        "id": "PrCM3Yns0Qk7"
      },
      "source": [
        "AGENT_FILE_PATH: str = \"rainbow-agent.pkl\"\n",
        "LOAD_FROM_FILE: bool = False\n",
        "SAVE_TO_FILE: bool = True"
      ],
      "execution_count": 18,
      "outputs": []
    },
    {
      "cell_type": "code",
      "metadata": {
        "colab": {
          "base_uri": "https://localhost:8080/",
          "height": 354
        },
        "id": "gNyJMFdgvnDz",
        "outputId": "27044d92-5d45-4a85-efc9-89d84bdae25c"
      },
      "source": [
        "env = gym.make(\"abalone-v0\")\n",
        "\n",
        "seed = 777\n",
        "\n",
        "np.random.seed(seed)\n",
        "random.seed(seed)\n",
        "seed_torch(seed)\n",
        "env.seed(seed)\n",
        "\n",
        "num_frames = 200000\n",
        "memory_size = 100000\n",
        "batch_size = 128\n",
        "target_update = 100\n",
        "\n",
        "if not LOAD_FROM_FILE:\n",
        "    agent = DQNAgent(env, memory_size, batch_size, target_update)\n",
        "    agent.train(num_frames)\n",
        "\n",
        "    if SAVE_TO_FILE:\n",
        "        with open(\"rainbow-agent.pkl\", \"wb\") as f:\n",
        "            pickle.dump(agent, f)   \n",
        "else:\n",
        "    with open(\"rainbow-agent.pkl\", \"rb\") as f:\n",
        "      agent = pickle.load(f)\n",
        "\n",
        "agent.test()"
      ],
      "execution_count": null,
      "outputs": [
        {
          "output_type": "display_data",
          "data": {
            "image/png": "[encoded data removed]",
            "text/plain": [
              "<Figure size 1440x360 with 2 Axes>"
            ]
          },
          "metadata": {
            "tags": [],
            "needs_background": "light"
          }
        },
        {
          "output_type": "stream",
          "text": [
            " 15%|█▌        | 30350/200000 [1:52:44<10:22:31,  4.54it/s]"
          ],
          "name": "stderr"
        }
      ]
    },
    {
      "cell_type": "code",
      "metadata": {
        "id": "YUgvlYft484Y"
      },
      "source": [
        "!ls"
      ],
      "execution_count": null,
      "outputs": []
    }
  ]
}